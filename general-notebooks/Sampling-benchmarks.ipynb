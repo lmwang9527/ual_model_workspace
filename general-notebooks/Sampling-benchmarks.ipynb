{
 "cells": [
  {
   "cell_type": "markdown",
   "metadata": {},
   "source": [
    "# Sampling benchmarks\n",
    "\n",
    "Performance comparisons for different kinds of weighted random sampling, related to [ChoiceModels PR #37](https://github.com/UDST/choicemodels/pull/37)\n",
    "\n",
    "Sam Maurer, August 2018 \n",
    "- updated Sep 2018 to remove old code and add some MergedChoiceTable performance comparisons"
   ]
  },
  {
   "cell_type": "code",
   "execution_count": 2,
   "metadata": {},
   "outputs": [
    {
     "name": "stdout",
     "output_type": "stream",
     "text": [
      "3.6.6 | packaged by conda-forge | (default, Jul 26 2018, 09:55:02) \n",
      "[GCC 4.2.1 Compatible Apple LLVM 6.1.0 (clang-602.0.53)]\n"
     ]
    }
   ],
   "source": [
    "import sys\n",
    "print(sys.version)"
   ]
  },
  {
   "cell_type": "code",
   "execution_count": 3,
   "metadata": {},
   "outputs": [],
   "source": [
    "import numpy as np\n",
    "import pandas as pd\n",
    "import random"
   ]
  },
  {
   "cell_type": "code",
   "execution_count": 4,
   "metadata": {},
   "outputs": [
    {
     "name": "stderr",
     "output_type": "stream",
     "text": [
      "/Users/maurer/anaconda3/envs/dissertation-env/lib/python3.6/site-packages/statsmodels/compat/pandas.py:56: FutureWarning: The pandas.core.datetools module is deprecated and will be removed in a future version. Please use the pandas.tseries module instead.\n",
      "  from pandas.core import datetools\n"
     ]
    }
   ],
   "source": [
    "import choicemodels"
   ]
  },
  {
   "cell_type": "code",
   "execution_count": null,
   "metadata": {
    "collapsed": true
   },
   "outputs": [],
   "source": []
  },
  {
   "cell_type": "markdown",
   "metadata": {},
   "source": [
    "## Performance comparison - underlying sampling libraries\n",
    "\n",
    "`random.choices`: replacement, optional weights - Python 3.6 and above  \n",
    "`random.sample`: no replacement  \n",
    "`np.random.choice`: optional replacement, optional weights\n",
    "\n",
    "For each one, draw 100 samples of 10 alternatives from a universe of 100,000"
   ]
  },
  {
   "cell_type": "code",
   "execution_count": 39,
   "metadata": {},
   "outputs": [],
   "source": [
    "n = int(1e5)\n",
    "vals = np.random.rand(n)\n",
    "weights = np.random.rand(n)\n",
    "scaled_weights = weights/weights.sum(0)  # probs that sum to 1"
   ]
  },
  {
   "cell_type": "code",
   "execution_count": 29,
   "metadata": {},
   "outputs": [
    {
     "name": "stdout",
     "output_type": "stream",
     "text": [
      "1000 loops, best of 3: 302 µs per loop\n"
     ]
    }
   ],
   "source": [
    "%%timeit 3\n",
    "    for i in range(100):\n",
    "        random.choices(vals, k=10)"
   ]
  },
  {
   "cell_type": "code",
   "execution_count": 33,
   "metadata": {},
   "outputs": [
    {
     "name": "stdout",
     "output_type": "stream",
     "text": [
      "1 loop, best of 3: 727 ms per loop\n"
     ]
    }
   ],
   "source": [
    "%%timeit 3\n",
    "    for i in range(100):\n",
    "        random.choices(vals, weights, k=10)"
   ]
  },
  {
   "cell_type": "code",
   "execution_count": 32,
   "metadata": {},
   "outputs": [
    {
     "name": "stdout",
     "output_type": "stream",
     "text": [
      "10 loops, best of 3: 153 ms per loop\n"
     ]
    }
   ],
   "source": [
    "%%timeit 3\n",
    "    for i in range(100):\n",
    "        random.sample(vals.tolist(), k=10)"
   ]
  },
  {
   "cell_type": "code",
   "execution_count": 36,
   "metadata": {},
   "outputs": [
    {
     "name": "stdout",
     "output_type": "stream",
     "text": [
      "1000 loops, best of 3: 701 µs per loop\n"
     ]
    }
   ],
   "source": [
    "%%timeit 3\n",
    "    for i in range(100):\n",
    "        np.random.choice(vals, replace=True, size=10)"
   ]
  },
  {
   "cell_type": "code",
   "execution_count": 42,
   "metadata": {},
   "outputs": [
    {
     "name": "stdout",
     "output_type": "stream",
     "text": [
      "10 loops, best of 3: 136 ms per loop\n"
     ]
    }
   ],
   "source": [
    "%%timeit 3\n",
    "    for i in range(100):\n",
    "        np.random.choice(vals, replace=False, size=10)"
   ]
  },
  {
   "cell_type": "code",
   "execution_count": 43,
   "metadata": {},
   "outputs": [
    {
     "name": "stdout",
     "output_type": "stream",
     "text": [
      "10 loops, best of 3: 70.2 ms per loop\n"
     ]
    }
   ],
   "source": [
    "%%timeit 3\n",
    "    for i in range(100):\n",
    "        np.random.choice(vals, replace=True, p=scaled_weights, size=10)"
   ]
  },
  {
   "cell_type": "code",
   "execution_count": 44,
   "metadata": {},
   "outputs": [
    {
     "name": "stdout",
     "output_type": "stream",
     "text": [
      "10 loops, best of 3: 78.8 ms per loop\n"
     ]
    }
   ],
   "source": [
    "%%timeit 3\n",
    "    for i in range(100):\n",
    "        np.random.choice(vals, replace=False, p=scaled_weights, size=10)"
   ]
  },
  {
   "cell_type": "markdown",
   "metadata": {},
   "source": [
    "Here are the winners, with times scaled to be relative:\n",
    "\n",
    "```\n",
    "1 ms    replacement, core python  \n",
    "200 ms  replacement with weights, numpy\n",
    "\n",
    "400 ms  no replacement, numpy\n",
    "240 ms  no replacement with weights, numpy\n",
    "```"
   ]
  },
  {
   "cell_type": "code",
   "execution_count": 45,
   "metadata": {
    "collapsed": true
   },
   "outputs": [],
   "source": [
    "# What's the real-world hit?\n",
    "\n",
    "n = int(5e6)\n",
    "vals = np.random.rand(n)\n",
    "weights = np.random.rand(n)\n",
    "scaled_weights = weights/weights.sum(0)  # probs that sum to 1"
   ]
  },
  {
   "cell_type": "code",
   "execution_count": 46,
   "metadata": {},
   "outputs": [
    {
     "name": "stdout",
     "output_type": "stream",
     "text": [
      "1 loop, best of 3: 5.39 s per loop\n"
     ]
    }
   ],
   "source": [
    "%%timeit 3\n",
    "    for i in range(100):\n",
    "        np.random.choice(vals, replace=False, p=scaled_weights, size=100)"
   ]
  },
  {
   "cell_type": "markdown",
   "metadata": {},
   "source": [
    "So drawing 100k samples of 100 without replacement from a universe of 5 million, with weights, would take 90 minues on a fast iMac"
   ]
  },
  {
   "cell_type": "code",
   "execution_count": null,
   "metadata": {
    "collapsed": true
   },
   "outputs": [],
   "source": []
  },
  {
   "cell_type": "markdown",
   "metadata": {},
   "source": [
    "## Performance comparison - MergedChoiceTable codebase\n",
    "\n",
    "1000 choosers, 1000 alternatives, combine them in various ways"
   ]
  },
  {
   "cell_type": "code",
   "execution_count": 27,
   "metadata": {},
   "outputs": [
    {
     "name": "stdout",
     "output_type": "stream",
     "text": [
      "1000\n",
      "       obsval  choice\n",
      "oid                  \n",
      "0    0.052555     502\n",
      "1    0.274712     118\n",
      "2    0.019762     674\n",
      "1000\n",
      "       altval         w\n",
      "aid                    \n",
      "0    0.014137  0.809878\n",
      "1    0.322373  0.212183\n",
      "2    0.803157  0.389278\n"
     ]
    }
   ],
   "source": [
    "n = 1000\n",
    "\n",
    "d1 = {'oid': np.arange(n), \n",
    "      'obsval': np.random.random(n),\n",
    "      'choice': np.random.choice(np.arange(n), size=n)}\n",
    "\n",
    "d2 = {'aid': np.arange(n), \n",
    "      'altval': np.random.random(n),\n",
    "      'w': np.random.random(n)}\n",
    "\n",
    "obs = pd.DataFrame(d1).set_index('oid')\n",
    "alts = pd.DataFrame(d2).set_index('aid')\n",
    "\n",
    "print(len(obs))\n",
    "print(obs.head(3))\n",
    "print(len(alts))\n",
    "print(alts.head(3))"
   ]
  },
  {
   "cell_type": "code",
   "execution_count": 26,
   "metadata": {},
   "outputs": [
    {
     "name": "stdout",
     "output_type": "stream",
     "text": [
      "1000000\n",
      "                w\n",
      "oid aid          \n",
      "0   0    0.908738\n",
      "    1    0.712737\n",
      "    2    0.840673\n"
     ]
    }
   ],
   "source": [
    "# build interaction weights - cartesian product of obs and alt ids\n",
    "\n",
    "w = obs.reset_index()[['oid']].assign(temp=1)\\\n",
    "       .merge(alts.reset_index()[['aid']].assign(temp=1))\\\n",
    "       .drop('temp', axis='columns').set_index(['oid', 'aid'])\n",
    "\n",
    "w['w'] = np.random.random(n*n)\n",
    "\n",
    "print(len(w))\n",
    "print(w.head(3))"
   ]
  },
  {
   "cell_type": "markdown",
   "metadata": {},
   "source": [
    "#### No sampling - 1 million final rows"
   ]
  },
  {
   "cell_type": "code",
   "execution_count": 12,
   "metadata": {},
   "outputs": [
    {
     "name": "stdout",
     "output_type": "stream",
     "text": [
      "279 ms ± 3.45 ms per loop (mean ± std. dev. of 7 runs, 1 loop each)\n"
     ]
    }
   ],
   "source": [
    "%%timeit 3\n",
    "    mct = choicemodels.tools.MergedChoiceTable(obs, alts, sample_size=None)"
   ]
  },
  {
   "cell_type": "markdown",
   "metadata": {},
   "source": [
    "#### Random sampling with replacement - 10k final rows"
   ]
  },
  {
   "cell_type": "code",
   "execution_count": 31,
   "metadata": {},
   "outputs": [
    {
     "name": "stdout",
     "output_type": "stream",
     "text": [
      "38.9 ms ± 241 µs per loop (mean ± std. dev. of 7 runs, 10 loops each)\n"
     ]
    }
   ],
   "source": [
    "%%timeit 3\n",
    "    mct = choicemodels.tools.MergedChoiceTable(obs, alts, sample_size=10, replace=True)"
   ]
  },
  {
   "cell_type": "markdown",
   "metadata": {},
   "source": [
    "#### Random sampling with replacement - 10k final rows - and merge choice column"
   ]
  },
  {
   "cell_type": "code",
   "execution_count": 30,
   "metadata": {},
   "outputs": [
    {
     "name": "stdout",
     "output_type": "stream",
     "text": [
      "14.3 ms ± 1.1 ms per loop (mean ± std. dev. of 7 runs, 100 loops each)\n"
     ]
    }
   ],
   "source": [
    "%%timeit 3\n",
    "    mct = choicemodels.tools.MergedChoiceTable(obs, alts, sample_size=10, replace=True,\n",
    "                                               chosen_alternatives='choice')"
   ]
  },
  {
   "cell_type": "markdown",
   "metadata": {},
   "source": [
    "#### Random sampling without replacement - 10k final rows"
   ]
  },
  {
   "cell_type": "code",
   "execution_count": 13,
   "metadata": {},
   "outputs": [
    {
     "name": "stdout",
     "output_type": "stream",
     "text": [
      "386 ms ± 3.86 ms per loop (mean ± std. dev. of 7 runs, 1 loop each)\n"
     ]
    }
   ],
   "source": [
    "%%timeit 3\n",
    "    mct = choicemodels.tools.MergedChoiceTable(obs, alts, sample_size=10, replace=False)"
   ]
  },
  {
   "cell_type": "markdown",
   "metadata": {},
   "source": [
    "#### Weighted sampling (alt-specific) with replacement - 10k final rows"
   ]
  },
  {
   "cell_type": "code",
   "execution_count": 15,
   "metadata": {},
   "outputs": [
    {
     "name": "stdout",
     "output_type": "stream",
     "text": [
      "9.37 ms ± 1.73 ms per loop (mean ± std. dev. of 7 runs, 100 loops each)\n"
     ]
    }
   ],
   "source": [
    "%%timeit 3\n",
    "    mct = choicemodels.tools.MergedChoiceTable(obs, alts, sample_size=10, \n",
    "                                               replace=True, weights='w')"
   ]
  },
  {
   "cell_type": "markdown",
   "metadata": {},
   "source": [
    "#### Weighted sampling (alt-specific) without replacement - 10k final rows"
   ]
  },
  {
   "cell_type": "code",
   "execution_count": 25,
   "metadata": {},
   "outputs": [
    {
     "name": "stdout",
     "output_type": "stream",
     "text": [
      "939 ms ± 18.1 ms per loop (mean ± std. dev. of 7 runs, 1 loop each)\n"
     ]
    }
   ],
   "source": [
    "%%timeit 3\n",
    "    mct = choicemodels.tools.MergedChoiceTable(obs, alts, sample_size=10, \n",
    "                                               replace=False, weights='w')"
   ]
  },
  {
   "cell_type": "markdown",
   "metadata": {},
   "source": [
    "#### Weighted sampling (interaction) without replacement - 10k final rows"
   ]
  },
  {
   "cell_type": "code",
   "execution_count": 24,
   "metadata": {},
   "outputs": [
    {
     "name": "stdout",
     "output_type": "stream",
     "text": [
      "1.29 s ± 24.1 ms per loop (mean ± std. dev. of 7 runs, 1 loop each)\n"
     ]
    }
   ],
   "source": [
    "%%timeit 3\n",
    "    mct = choicemodels.tools.MergedChoiceTable(obs, alts, sample_size=10, \n",
    "                                               replace=True, weights=w.w)"
   ]
  },
  {
   "cell_type": "code",
   "execution_count": null,
   "metadata": {},
   "outputs": [],
   "source": []
  },
  {
   "cell_type": "code",
   "execution_count": null,
   "metadata": {},
   "outputs": [],
   "source": []
  },
  {
   "cell_type": "code",
   "execution_count": null,
   "metadata": {
    "collapsed": true
   },
   "outputs": [],
   "source": []
  },
  {
   "cell_type": "markdown",
   "metadata": {},
   "source": [
    "## Integrating MCT with estimation"
   ]
  },
  {
   "cell_type": "code",
   "execution_count": 18,
   "metadata": {
    "collapsed": true
   },
   "outputs": [],
   "source": [
    "alts = pd.DataFrame(np.random.rand(10,2), columns=['b','c'])"
   ]
  },
  {
   "cell_type": "code",
   "execution_count": 19,
   "metadata": {},
   "outputs": [
    {
     "name": "stdout",
     "output_type": "stream",
     "text": [
      "10\n"
     ]
    },
    {
     "data": {
      "text/html": [
       "<div>\n",
       "<style>\n",
       "    .dataframe thead tr:only-child th {\n",
       "        text-align: right;\n",
       "    }\n",
       "\n",
       "    .dataframe thead th {\n",
       "        text-align: left;\n",
       "    }\n",
       "\n",
       "    .dataframe tbody tr th {\n",
       "        vertical-align: top;\n",
       "    }\n",
       "</style>\n",
       "<table border=\"1\" class=\"dataframe\">\n",
       "  <thead>\n",
       "    <tr style=\"text-align: right;\">\n",
       "      <th></th>\n",
       "      <th>b</th>\n",
       "      <th>c</th>\n",
       "    </tr>\n",
       "  </thead>\n",
       "  <tbody>\n",
       "    <tr>\n",
       "      <th>0</th>\n",
       "      <td>0.543301</td>\n",
       "      <td>0.507470</td>\n",
       "    </tr>\n",
       "    <tr>\n",
       "      <th>1</th>\n",
       "      <td>0.109225</td>\n",
       "      <td>0.223447</td>\n",
       "    </tr>\n",
       "    <tr>\n",
       "      <th>2</th>\n",
       "      <td>0.387049</td>\n",
       "      <td>0.036127</td>\n",
       "    </tr>\n",
       "  </tbody>\n",
       "</table>\n",
       "</div>"
      ],
      "text/plain": [
       "          b         c\n",
       "0  0.543301  0.507470\n",
       "1  0.109225  0.223447\n",
       "2  0.387049  0.036127"
      ]
     },
     "execution_count": 19,
     "metadata": {},
     "output_type": "execute_result"
    }
   ],
   "source": [
    "print(len(alts))\n",
    "alts.head(3)"
   ]
  },
  {
   "cell_type": "code",
   "execution_count": 20,
   "metadata": {},
   "outputs": [],
   "source": [
    "n = 100\n",
    "w = alts.c/alts.c.sum()\n",
    "\n",
    "obs = pd.DataFrame({'a': np.random.rand(n),\n",
    "                    'chosen': np.random.choice(range(len(alts)), n, p=w)})"
   ]
  },
  {
   "cell_type": "code",
   "execution_count": 21,
   "metadata": {},
   "outputs": [
    {
     "name": "stdout",
     "output_type": "stream",
     "text": [
      "100\n"
     ]
    },
    {
     "data": {
      "text/html": [
       "<div>\n",
       "<style>\n",
       "    .dataframe thead tr:only-child th {\n",
       "        text-align: right;\n",
       "    }\n",
       "\n",
       "    .dataframe thead th {\n",
       "        text-align: left;\n",
       "    }\n",
       "\n",
       "    .dataframe tbody tr th {\n",
       "        vertical-align: top;\n",
       "    }\n",
       "</style>\n",
       "<table border=\"1\" class=\"dataframe\">\n",
       "  <thead>\n",
       "    <tr style=\"text-align: right;\">\n",
       "      <th></th>\n",
       "      <th>a</th>\n",
       "      <th>chosen</th>\n",
       "    </tr>\n",
       "  </thead>\n",
       "  <tbody>\n",
       "    <tr>\n",
       "      <th>0</th>\n",
       "      <td>0.138992</td>\n",
       "      <td>5</td>\n",
       "    </tr>\n",
       "    <tr>\n",
       "      <th>1</th>\n",
       "      <td>0.174695</td>\n",
       "      <td>7</td>\n",
       "    </tr>\n",
       "    <tr>\n",
       "      <th>2</th>\n",
       "      <td>0.135044</td>\n",
       "      <td>6</td>\n",
       "    </tr>\n",
       "  </tbody>\n",
       "</table>\n",
       "</div>"
      ],
      "text/plain": [
       "          a  chosen\n",
       "0  0.138992       5\n",
       "1  0.174695       7\n",
       "2  0.135044       6"
      ]
     },
     "execution_count": 21,
     "metadata": {},
     "output_type": "execute_result"
    }
   ],
   "source": [
    "print(len(obs))\n",
    "obs.head(3)"
   ]
  },
  {
   "cell_type": "code",
   "execution_count": 22,
   "metadata": {},
   "outputs": [
    {
     "name": "stdout",
     "output_type": "stream",
     "text": [
      "500\n"
     ]
    },
    {
     "data": {
      "text/html": [
       "<div>\n",
       "<style>\n",
       "    .dataframe thead tr:only-child th {\n",
       "        text-align: right;\n",
       "    }\n",
       "\n",
       "    .dataframe thead th {\n",
       "        text-align: left;\n",
       "    }\n",
       "\n",
       "    .dataframe tbody tr th {\n",
       "        vertical-align: top;\n",
       "    }\n",
       "</style>\n",
       "<table border=\"1\" class=\"dataframe\">\n",
       "  <thead>\n",
       "    <tr style=\"text-align: right;\">\n",
       "      <th></th>\n",
       "      <th>obs_id</th>\n",
       "      <th>alt_id</th>\n",
       "      <th>a</th>\n",
       "      <th>b</th>\n",
       "      <th>c</th>\n",
       "      <th>chosen</th>\n",
       "    </tr>\n",
       "  </thead>\n",
       "  <tbody>\n",
       "    <tr>\n",
       "      <th>0</th>\n",
       "      <td>99</td>\n",
       "      <td>5</td>\n",
       "      <td>0.892908</td>\n",
       "      <td>0.975887</td>\n",
       "      <td>0.929253</td>\n",
       "      <td>1</td>\n",
       "    </tr>\n",
       "    <tr>\n",
       "      <th>1</th>\n",
       "      <td>99</td>\n",
       "      <td>4</td>\n",
       "      <td>0.892908</td>\n",
       "      <td>0.241345</td>\n",
       "      <td>0.980643</td>\n",
       "      <td>0</td>\n",
       "    </tr>\n",
       "    <tr>\n",
       "      <th>2</th>\n",
       "      <td>99</td>\n",
       "      <td>6</td>\n",
       "      <td>0.892908</td>\n",
       "      <td>0.346340</td>\n",
       "      <td>0.498870</td>\n",
       "      <td>0</td>\n",
       "    </tr>\n",
       "    <tr>\n",
       "      <th>3</th>\n",
       "      <td>99</td>\n",
       "      <td>9</td>\n",
       "      <td>0.892908</td>\n",
       "      <td>0.219413</td>\n",
       "      <td>0.777656</td>\n",
       "      <td>0</td>\n",
       "    </tr>\n",
       "    <tr>\n",
       "      <th>4</th>\n",
       "      <td>99</td>\n",
       "      <td>8</td>\n",
       "      <td>0.892908</td>\n",
       "      <td>0.562223</td>\n",
       "      <td>0.397979</td>\n",
       "      <td>0</td>\n",
       "    </tr>\n",
       "  </tbody>\n",
       "</table>\n",
       "</div>"
      ],
      "text/plain": [
       "   obs_id  alt_id         a         b         c  chosen\n",
       "0      99       5  0.892908  0.975887  0.929253       1\n",
       "1      99       4  0.892908  0.241345  0.980643       0\n",
       "2      99       6  0.892908  0.346340  0.498870       0\n",
       "3      99       9  0.892908  0.219413  0.777656       0\n",
       "4      99       8  0.892908  0.562223  0.397979       0"
      ]
     },
     "execution_count": 22,
     "metadata": {},
     "output_type": "execute_result"
    }
   ],
   "source": [
    "mct = choicemodels.tools.MergedChoiceTable(obs, alts, 'chosen', sample_size=5, replace=False)\n",
    "\n",
    "print(len(mct.to_frame()))\n",
    "mct.to_frame().reset_index().head()"
   ]
  },
  {
   "cell_type": "code",
   "execution_count": 23,
   "metadata": {},
   "outputs": [
    {
     "data": {
      "text/plain": [
       "                  CHOICEMODELS ESTIMATION RESULTS                  \n",
       "===================================================================\n",
       "Dep. Var.:                chosen   No. Observations:            100\n",
       "Model:         Multinomial Logit   Df Residuals:                 96\n",
       "Method:       Maximum Likelihood   Df Model:                      4\n",
       "Date:                 2018-08-20   Pseudo R-squ.:             0.124\n",
       "Time:                      13:24   Pseudo R-bar-squ.:         0.099\n",
       "AIC:                     290.005   Log-Likelihood:         -141.002\n",
       "BIC:                     300.425   LL-Null:                -160.944\n",
       "==============================================================\n",
       "               coef   std err         z     P>|z|   Conf. Int.\n",
       "--------------------------------------------------------------\n",
       "Intercept   -0.0000     0.469    -0.000     1.000             \n",
       "a            0.0000     0.418     0.000     1.000             \n",
       "b            0.3333     0.404     0.824     0.410             \n",
       "c            2.3596     0.456     5.176     0.000             \n",
       "=============================================================="
      ]
     },
     "execution_count": 23,
     "metadata": {},
     "output_type": "execute_result"
    }
   ],
   "source": [
    "m = choicemodels.MultinomialLogit(mct.to_frame(), \n",
    "                                  observation_id_col = mct.observation_id_col,\n",
    "                                  choice_col = mct.choice_col,\n",
    "                                  model_expression = 'a + b + c')\n",
    "\n",
    "m.fit()"
   ]
  },
  {
   "cell_type": "code",
   "execution_count": null,
   "metadata": {
    "collapsed": true
   },
   "outputs": [],
   "source": []
  },
  {
   "cell_type": "code",
   "execution_count": null,
   "metadata": {
    "collapsed": true
   },
   "outputs": [],
   "source": []
  },
  {
   "cell_type": "code",
   "execution_count": null,
   "metadata": {
    "collapsed": true
   },
   "outputs": [],
   "source": []
  },
  {
   "cell_type": "code",
   "execution_count": null,
   "metadata": {
    "collapsed": true
   },
   "outputs": [],
   "source": []
  },
  {
   "cell_type": "markdown",
   "metadata": {},
   "source": [
    "https://gist.github.com/smmaurer/c3b4f2f7c4d612a4520de119f9f497cf"
   ]
  },
  {
   "cell_type": "code",
   "execution_count": null,
   "metadata": {},
   "outputs": [],
   "source": []
  },
  {
   "cell_type": "code",
   "execution_count": null,
   "metadata": {},
   "outputs": [],
   "source": []
  }
 ],
 "metadata": {
  "kernelspec": {
   "display_name": "Python 3",
   "language": "python",
   "name": "python3"
  },
  "language_info": {
   "codemirror_mode": {
    "name": "ipython",
    "version": 3
   },
   "file_extension": ".py",
   "mimetype": "text/x-python",
   "name": "python",
   "nbconvert_exporter": "python",
   "pygments_lexer": "ipython3",
   "version": "3.6.6"
  }
 },
 "nbformat": 4,
 "nbformat_minor": 2
}
