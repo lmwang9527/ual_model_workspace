{
 "cells": [
  {
   "cell_type": "markdown",
   "metadata": {},
   "source": [
    "# Specify tables and columns"
   ]
  },
  {
   "cell_type": "code",
   "execution_count": 1,
   "metadata": {},
   "outputs": [],
   "source": [
    "import numpy as np\n",
    "import pandas as pd\n",
    "import orca\n",
    "import os; os.chdir('../')\n",
    "import warnings; warnings.simplefilter('ignore')\n",
    "\n",
    "# Set data directory\n",
    "\n",
    "d = '/home/data/fall_2018/'\n",
    "\n",
    "if 'data_directory' in orca.list_injectables():\n",
    "    d = orca.get_injectable('data_directory')\n",
    "    \n",
    "from scripts import datasources, models, variables    "
   ]
  },
  {
   "cell_type": "code",
   "execution_count": 2,
   "metadata": {},
   "outputs": [
    {
     "data": {
      "text/plain": [
       "<orca.orca.DataFrameWrapper at 0x7fdce5730240>"
      ]
     },
     "execution_count": 2,
     "metadata": {},
     "output_type": "execute_result"
    }
   ],
   "source": [
    "@orca.table(cache=True)\n",
    "def persons():\n",
    "    df = pd.read_csv(\n",
    "        d + 'chts_persons_w_zone_ids.csv',\n",
    "        index_col = [\"SAMPN\", \"PERNO\"]\n",
    "    )\n",
    "    return df\n",
    "\n",
    "#persons_chts = persons_df1.join(persons_df2, how=\"left\")\n",
    "\n",
    "persons = orca.get_table('persons').to_frame()\n",
    "students = persons.loc[persons['STUDE'].isin([1, 2])# full time & part time students\n",
    "                 & persons['SCHOL'].isin([3,  # Kindergarten to grade 8\n",
    "                                          4,  # Grades 9 to 12 \n",
    "                                          6,  # 2-year college (community college) \n",
    "                                          7,  # 4-year college or university \n",
    "                                          8]) # Graduate school / Professional \n",
    "                 & (~persons['SNAME_lookup'].isna()) \n",
    "                 & (persons['SNAME_lookup'] != \"DK/RF\")]\n",
    "len(students)\n",
    "\n",
    "schools_raw = students.groupby(by=[\"SCHOL\", \"SNAME_lookup\", \"SZIP_lookup\"]).size().reset_index(name='counts')\n",
    "# There are 3505 unique \"schools\", most of them have 1 student in the CHTS sample\n",
    "# For now, keep only schools with 5+ students in the CHTS sample\n",
    "schools = schools_raw.loc[schools_raw['counts'] >= 5]#.drop(columns=[\"counts\"])\n",
    "schools[\"school_id\"] = np.arange(len(schools))\n",
    "\n",
    "students = pd.merge(students, schools.drop(columns=[\"counts\"]), \n",
    "                    how=\"left\", on=[\"SCHOL\", \"SNAME_lookup\", \"SZIP_lookup\"])#[\"school_id\"]\n",
    "students = students.loc[~students['school_id'].isna()]\n",
    "\n",
    "orca.add_table('students', students)\n",
    "orca.add_table('schools', schools)\n",
    "#len(students)"
   ]
  },
  {
   "cell_type": "code",
   "execution_count": 3,
   "metadata": {},
   "outputs": [],
   "source": [
    "@orca.column('students', 'is_college_student', cache=True)\n",
    "def is_college_student(students):\n",
    "    is_college_map = {3: 0,\n",
    "                      4: 0,\n",
    "                      6: 1,\n",
    "                      7: 1,\n",
    "                      8: 1}\n",
    "    return students.SCHOL.map(is_college_map)\n",
    "\n",
    "#@orca.column('students', 'school_id', cache=True)\n",
    "#def school_id(students, schools):\n",
    "#    misc.reindex()\n",
    "#    return pd.merge(students, schools, how=\"left\", on=[\"SCHOL\", \"SNAME_lookup\", \"SZIP_lookup\"])[\"school_id\"]"
   ]
  },
  {
   "cell_type": "markdown",
   "metadata": {},
   "source": [
    "# Configure models"
   ]
  },
  {
   "cell_type": "code",
   "execution_count": 4,
   "metadata": {},
   "outputs": [
    {
     "ename": "KeyError",
     "evalue": "'SmallMultinomialLogitStep'",
     "output_type": "error",
     "traceback": [
      "\u001b[0;31m---------------------------------------------------------------------------\u001b[0m",
      "\u001b[0;31mKeyError\u001b[0m                                  Traceback (most recent call last)",
      "\u001b[0;32m<ipython-input-4-0401aecf3016>\u001b[0m in \u001b[0;36m<module>\u001b[0;34m\u001b[0m\n\u001b[1;32m      1\u001b[0m \u001b[0;32mfrom\u001b[0m \u001b[0murbansim_templates\u001b[0m \u001b[0;32mimport\u001b[0m \u001b[0mmodelmanager\u001b[0m\u001b[0;34m\u001b[0m\u001b[0;34m\u001b[0m\u001b[0m\n\u001b[1;32m      2\u001b[0m \u001b[0;34m\u001b[0m\u001b[0m\n\u001b[0;32m----> 3\u001b[0;31m \u001b[0mmodelmanager\u001b[0m\u001b[0;34m.\u001b[0m\u001b[0minitialize\u001b[0m\u001b[0;34m(\u001b[0m\u001b[0;34m)\u001b[0m\u001b[0;34m\u001b[0m\u001b[0;34m\u001b[0m\u001b[0m\n\u001b[0m\u001b[1;32m      4\u001b[0m \u001b[0;34m\u001b[0m\u001b[0m\n\u001b[1;32m      5\u001b[0m \u001b[0;32mfrom\u001b[0m \u001b[0murbansim_templates\u001b[0m\u001b[0;34m.\u001b[0m\u001b[0mmodels\u001b[0m \u001b[0;32mimport\u001b[0m \u001b[0mLargeMultinomialLogitStep\u001b[0m\u001b[0;34m,\u001b[0m \u001b[0mSegmentedLargeMultinomialLogitStep\u001b[0m\u001b[0;34m\u001b[0m\u001b[0;34m\u001b[0m\u001b[0m\n",
      "\u001b[0;32m~/workspace/urbansim_templates/urbansim_templates/modelmanager.py\u001b[0m in \u001b[0;36minitialize\u001b[0;34m(path)\u001b[0m\n\u001b[1;32m     79\u001b[0m     \u001b[0;32mfor\u001b[0m \u001b[0md\u001b[0m \u001b[0;32min\u001b[0m \u001b[0msteps\u001b[0m\u001b[0;34m:\u001b[0m\u001b[0;34m\u001b[0m\u001b[0;34m\u001b[0m\u001b[0m\n\u001b[1;32m     80\u001b[0m         \u001b[0;31m# TO DO - check for this key, to be safe\u001b[0m\u001b[0;34m\u001b[0m\u001b[0;34m\u001b[0m\u001b[0;34m\u001b[0m\u001b[0m\n\u001b[0;32m---> 81\u001b[0;31m         \u001b[0mstep\u001b[0m \u001b[0;34m=\u001b[0m \u001b[0mbuild_step\u001b[0m\u001b[0;34m(\u001b[0m\u001b[0md\u001b[0m\u001b[0;34m[\u001b[0m\u001b[0;34m'saved_object'\u001b[0m\u001b[0;34m]\u001b[0m\u001b[0;34m)\u001b[0m\u001b[0;34m\u001b[0m\u001b[0;34m\u001b[0m\u001b[0m\n\u001b[0m\u001b[1;32m     82\u001b[0m         \u001b[0mregister\u001b[0m\u001b[0;34m(\u001b[0m\u001b[0mstep\u001b[0m\u001b[0;34m,\u001b[0m \u001b[0msave_to_disk\u001b[0m\u001b[0;34m=\u001b[0m\u001b[0;32mFalse\u001b[0m\u001b[0;34m)\u001b[0m\u001b[0;34m\u001b[0m\u001b[0;34m\u001b[0m\u001b[0m\n\u001b[1;32m     83\u001b[0m \u001b[0;34m\u001b[0m\u001b[0m\n",
      "\u001b[0;32m~/workspace/urbansim_templates/urbansim_templates/modelmanager.py\u001b[0m in \u001b[0;36mbuild_step\u001b[0;34m(d)\u001b[0m\n\u001b[1;32m    103\u001b[0m             \u001b[0md\u001b[0m\u001b[0;34m[\u001b[0m\u001b[0;34m'supplemental_objects'\u001b[0m\u001b[0;34m]\u001b[0m\u001b[0;34m[\u001b[0m\u001b[0mi\u001b[0m\u001b[0;34m]\u001b[0m\u001b[0;34m[\u001b[0m\u001b[0;34m'content'\u001b[0m\u001b[0;34m]\u001b[0m \u001b[0;34m=\u001b[0m \u001b[0mcontent\u001b[0m\u001b[0;34m\u001b[0m\u001b[0;34m\u001b[0m\u001b[0m\n\u001b[1;32m    104\u001b[0m \u001b[0;34m\u001b[0m\u001b[0m\n\u001b[0;32m--> 105\u001b[0;31m     \u001b[0;32mreturn\u001b[0m \u001b[0m_templates\u001b[0m\u001b[0;34m[\u001b[0m\u001b[0md\u001b[0m\u001b[0;34m[\u001b[0m\u001b[0;34m'template'\u001b[0m\u001b[0;34m]\u001b[0m\u001b[0;34m]\u001b[0m\u001b[0;34m.\u001b[0m\u001b[0mfrom_dict\u001b[0m\u001b[0;34m(\u001b[0m\u001b[0md\u001b[0m\u001b[0;34m)\u001b[0m\u001b[0;34m\u001b[0m\u001b[0;34m\u001b[0m\u001b[0m\n\u001b[0m\u001b[1;32m    106\u001b[0m \u001b[0;34m\u001b[0m\u001b[0m\n\u001b[1;32m    107\u001b[0m \u001b[0;34m\u001b[0m\u001b[0m\n",
      "\u001b[0;31mKeyError\u001b[0m: 'SmallMultinomialLogitStep'"
     ]
    }
   ],
   "source": [
    "from urbansim_templates import modelmanager\n",
    "\n",
    "modelmanager.initialize()\n",
    "\n",
    "from urbansim_templates.models import LargeMultinomialLogitStep, SegmentedLargeMultinomialLogitStep\n",
    "m0 = LargeMultinomialLogitStep(\n",
    "      choosers=\"students\",\n",
    "      alternatives=\"schools\",\n",
    "      model_expression=\"counts\",\n",
    "      choice_column=\"school_id\",\n",
    "      alt_sample_size = 20\n",
    ")\n",
    "m0.fit()\n"
   ]
  },
  {
   "cell_type": "code",
   "execution_count": null,
   "metadata": {},
   "outputs": [],
   "source": [
    "from urbansim_templates.models import SegmentedLargeMultinomialLogitStep\n",
    "\n",
    "m = SegmentedLargeMultinomialLogitStep(\n",
    "      defaults = m0,\n",
    "      name = \"school-choice-model\",\n",
    "      segmentation_column = \"is_college_student\",\n",
    "      )\n",
    "\n",
    "m.fit_all()"
   ]
  }
 ],
 "metadata": {
  "kernelspec": {
   "display_name": "Python 3",
   "language": "python",
   "name": "python3"
  },
  "language_info": {
   "codemirror_mode": {
    "name": "ipython",
    "version": 3
   },
   "file_extension": ".py",
   "mimetype": "text/x-python",
   "name": "python",
   "nbconvert_exporter": "python",
   "pygments_lexer": "ipython3",
   "version": "3.6.8"
  }
 },
 "nbformat": 4,
 "nbformat_minor": 2
}
